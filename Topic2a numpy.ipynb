{
 "cells": [
  {
   "cell_type": "markdown",
   "metadata": {},
   "source": [
    "# Topic 2:  numpy"
   ]
  },
  {
   "cell_type": "markdown",
   "metadata": {},
   "source": [
    "We are now moving on the useful libraries for scientific computing.  The first one of interest is numpy.  We load it like this:"
   ]
  },
  {
   "cell_type": "code",
   "execution_count": 1,
   "metadata": {},
   "outputs": [],
   "source": [
    "import numpy as np"
   ]
  },
  {
   "cell_type": "markdown",
   "metadata": {},
   "source": [
    "numpy is filled with basic math functions that you will use all the time"
   ]
  },
  {
   "cell_type": "code",
   "execution_count": 2,
   "metadata": {},
   "outputs": [
    {
     "name": "stdout",
     "output_type": "stream",
     "text": [
      "0.9092974268256817 -1.0\n"
     ]
    }
   ],
   "source": [
    "print(np.sin(2),np.cos(np.pi))"
   ]
  },
  {
   "cell_type": "markdown",
   "metadata": {},
   "source": [
    "Let's make our life easier and define"
   ]
  },
  {
   "cell_type": "code",
   "execution_count": 3,
   "metadata": {},
   "outputs": [],
   "source": [
    "pi=np.pi"
   ]
  },
  {
   "cell_type": "markdown",
   "metadata": {},
   "source": [
    "The most basic object in numpy is the numpy array.  In some ways, this is just like a list, but it is designed so you can do lots of math operations quickly:"
   ]
  },
  {
   "cell_type": "code",
   "execution_count": 4,
   "metadata": {},
   "outputs": [
    {
     "name": "stdout",
     "output_type": "stream",
     "text": [
      "1 3 5\n"
     ]
    }
   ],
   "source": [
    "a=np.array([1,4,1,5,15,20,22,1,45,3])\n",
    "print(a[0], a[-1], a[3])"
   ]
  },
  {
   "cell_type": "code",
   "execution_count": 5,
   "metadata": {},
   "outputs": [
    {
     "name": "stdout",
     "output_type": "stream",
     "text": [
      "[35.1 35.1 35.1 35.1 35.1 35.1 35.1 35.1 35.1 35.1]\n"
     ]
    }
   ],
   "source": [
    "b=np.ones(len(a))*35.1\n",
    "print(b)"
   ]
  },
  {
   "cell_type": "code",
   "execution_count": 6,
   "metadata": {},
   "outputs": [
    {
     "name": "stdout",
     "output_type": "stream",
     "text": [
      "[36.1 39.1 36.1 40.1 50.1 55.1 57.1 36.1 80.1 38.1]\n",
      "[  35.1  140.4   35.1  175.5  526.5  702.   772.2   35.1 1579.5  105.3]\n",
      "[    1    64     1   125  3375  8000 10648     1 91125    27]\n",
      "[43243.551 43243.551 43243.551 43243.551 43243.551 43243.551 43243.551\n",
      " 43243.551 43243.551 43243.551]\n"
     ]
    }
   ],
   "source": [
    "print(a+b)\n",
    "print(a*b)\n",
    "print(a**3)\n",
    "print(b**3)"
   ]
  },
  {
   "cell_type": "markdown",
   "metadata": {},
   "source": [
    "Notice that this is NOT doing matrix or vector mupliplication or addition.  It is performing the operation on each element of the list.  For this to work, it is essential that a and b are the same length.  But, it does understand what you mean if you act with number."
   ]
  },
  {
   "cell_type": "code",
   "execution_count": 7,
   "metadata": {},
   "outputs": [
    {
     "name": "stdout",
     "output_type": "stream",
     "text": [
      "[  4  16   4  20  60  80  88   4 180  12]\n",
      "[ 5  8  5  9 19 24 26  5 49  7]\n"
     ]
    }
   ],
   "source": [
    "print(a*4)\n",
    "print(a+4)"
   ]
  },
  {
   "cell_type": "markdown",
   "metadata": {},
   "source": [
    "But if you have two different sized arrays is doesn't know what to do"
   ]
  },
  {
   "cell_type": "code",
   "execution_count": 8,
   "metadata": {},
   "outputs": [
    {
     "ename": "ValueError",
     "evalue": "operands could not be broadcast together with shapes (10,) (3,) ",
     "output_type": "error",
     "traceback": [
      "\u001b[0;31m---------------------------------------------------------------------------\u001b[0m",
      "\u001b[0;31mValueError\u001b[0m                                Traceback (most recent call last)",
      "\u001b[0;32m/var/folders/vh/rcz751b57355h3qzj37sc3080000gp/T/ipykernel_2838/3507022599.py\u001b[0m in \u001b[0;36m<module>\u001b[0;34m\u001b[0m\n\u001b[1;32m      1\u001b[0m \u001b[0mc\u001b[0m\u001b[0;34m=\u001b[0m\u001b[0mnp\u001b[0m\u001b[0;34m.\u001b[0m\u001b[0marray\u001b[0m\u001b[0;34m(\u001b[0m\u001b[0;34m[\u001b[0m\u001b[0;36m2\u001b[0m\u001b[0;34m,\u001b[0m\u001b[0;36m4\u001b[0m\u001b[0;34m,\u001b[0m\u001b[0;36m2\u001b[0m\u001b[0;34m]\u001b[0m\u001b[0;34m)\u001b[0m\u001b[0;34m\u001b[0m\u001b[0;34m\u001b[0m\u001b[0m\n\u001b[0;32m----> 2\u001b[0;31m \u001b[0ma\u001b[0m\u001b[0;34m+\u001b[0m\u001b[0mc\u001b[0m\u001b[0;34m\u001b[0m\u001b[0;34m\u001b[0m\u001b[0m\n\u001b[0m",
      "\u001b[0;31mValueError\u001b[0m: operands could not be broadcast together with shapes (10,) (3,) "
     ]
    }
   ],
   "source": [
    "c=np.array([2,4,2])\n",
    "a+c"
   ]
  },
  {
   "cell_type": "markdown",
   "metadata": {},
   "source": [
    "Numpy arrays actually have shapes so that they are more like matrices, tensors, etc."
   ]
  },
  {
   "cell_type": "code",
   "execution_count": 9,
   "metadata": {},
   "outputs": [
    {
     "data": {
      "text/plain": [
       "(2, 2)"
      ]
     },
     "execution_count": 9,
     "metadata": {},
     "output_type": "execute_result"
    }
   ],
   "source": [
    "d=np.array([[1,2],[1,2]])\n",
    "e=np.ones((3,3,3))\n",
    "d.shape"
   ]
  },
  {
   "cell_type": "code",
   "execution_count": 10,
   "metadata": {},
   "outputs": [],
   "source": [
    "e=np.arange(9)"
   ]
  },
  {
   "cell_type": "code",
   "execution_count": 11,
   "metadata": {},
   "outputs": [
    {
     "data": {
      "text/plain": [
       "array([[0, 1, 2],\n",
       "       [3, 4, 5],\n",
       "       [6, 7, 8]])"
      ]
     },
     "execution_count": 11,
     "metadata": {},
     "output_type": "execute_result"
    }
   ],
   "source": [
    "e.reshape((3,3))"
   ]
  },
  {
   "cell_type": "code",
   "execution_count": 12,
   "metadata": {},
   "outputs": [
    {
     "name": "stdout",
     "output_type": "stream",
     "text": [
      "[[[ 0  1  2]\n",
      "  [ 3  4  5]\n",
      "  [ 6  7  8]]\n",
      "\n",
      " [[ 9 10 11]\n",
      "  [12 13 14]\n",
      "  [15 16 17]]\n",
      "\n",
      " [[18 19 20]\n",
      "  [21 22 23]\n",
      "  [24 25 26]]]\n"
     ]
    }
   ],
   "source": [
    "e=np.arange(27)\n",
    "f=e.reshape((3,3,3))\n",
    "print(f)"
   ]
  },
  {
   "cell_type": "code",
   "execution_count": 13,
   "metadata": {},
   "outputs": [
    {
     "data": {
      "text/plain": [
       "array([6, 7, 8])"
      ]
     },
     "execution_count": 13,
     "metadata": {},
     "output_type": "execute_result"
    }
   ],
   "source": [
    "f[0,2]"
   ]
  },
  {
   "cell_type": "code",
   "execution_count": 14,
   "metadata": {},
   "outputs": [
    {
     "data": {
      "text/plain": [
       "array([[[  0,   1,   4],\n",
       "        [  9,  16,  25],\n",
       "        [ 36,  49,  64]],\n",
       "\n",
       "       [[ 81, 100, 121],\n",
       "        [144, 169, 196],\n",
       "        [225, 256, 289]],\n",
       "\n",
       "       [[324, 361, 400],\n",
       "        [441, 484, 529],\n",
       "        [576, 625, 676]]])"
      ]
     },
     "execution_count": 14,
     "metadata": {},
     "output_type": "execute_result"
    }
   ],
   "source": [
    "f**2"
   ]
  },
  {
   "cell_type": "markdown",
   "metadata": {},
   "source": [
    "These definitions are really useful because you can write a function like it acts on a single number, but, if you're careful, it can act on the full array:"
   ]
  },
  {
   "cell_type": "code",
   "execution_count": 15,
   "metadata": {},
   "outputs": [],
   "source": [
    "def position(t,x0,v,a):\n",
    "    position=x0+v*t+a*t**2/2.\n",
    "    return position"
   ]
  },
  {
   "cell_type": "code",
   "execution_count": 16,
   "metadata": {},
   "outputs": [],
   "source": [
    "t=np.linspace(0,100,1000)"
   ]
  },
  {
   "cell_type": "code",
   "execution_count": 17,
   "metadata": {},
   "outputs": [],
   "source": [
    "d=position(t,50,-100.,3.)"
   ]
  },
  {
   "cell_type": "code",
   "execution_count": 18,
   "metadata": {},
   "outputs": [],
   "source": [
    "import matplotlib.pyplot as plt"
   ]
  },
  {
   "cell_type": "code",
   "execution_count": 19,
   "metadata": {},
   "outputs": [
    {
     "data": {
      "image/png": "[encoded data removed]",
      "text/plain": [
       "<Figure size 432x288 with 1 Axes>"
      ]
     },
     "metadata": {
      "needs_background": "light"
     },
     "output_type": "display_data"
    }
   ],
   "source": [
    "plt.plot(t,d)\n",
    "plt.show()"
   ]
  },
  {
   "cell_type": "markdown",
   "metadata": {},
   "source": [
    "We can also try something more complicated where we solve more than one problem at a time:"
   ]
  },
  {
   "cell_type": "code",
   "execution_count": 20,
   "metadata": {},
   "outputs": [
    {
     "name": "stdout",
     "output_type": "stream",
     "text": [
      "(3, 1000)\n"
     ]
    }
   ],
   "source": [
    "tarray=np.array((t,t,t))\n",
    "print(tarray.shape)\n",
    "varray=np.zeros(tarray.shape)\n",
    "aarray=np.ones(tarray.shape)"
   ]
  },
  {
   "cell_type": "code",
   "execution_count": 21,
   "metadata": {},
   "outputs": [],
   "source": [
    "varray[1,:]=np.ones(len(t))\n",
    "varray[2,:]=np.ones(len(t))*2\n",
    "aarray[1,:]=np.ones(len(t))*2\n",
    "aarray[2,:]=np.ones(len(t))*3"
   ]
  },
  {
   "cell_type": "code",
   "execution_count": 22,
   "metadata": {},
   "outputs": [],
   "source": [
    "darray=position(tarray,0,varray,aarray)"
   ]
  },
  {
   "cell_type": "code",
   "execution_count": 23,
   "metadata": {},
   "outputs": [
    {
     "data": {
      "image/png": "[encoded data removed]",
      "text/plain": [
       "<Figure size 432x288 with 1 Axes>"
      ]
     },
     "metadata": {
      "needs_background": "light"
     },
     "output_type": "display_data"
    }
   ],
   "source": [
    "plt.plot(t,darray[0,:])\n",
    "plt.plot(t,darray[1,:])\n",
    "plt.plot(t,darray[2,:])\n",
    "plt.show()\n"
   ]
  },
  {
   "cell_type": "markdown",
   "metadata": {},
   "source": [
    "The key advantages of numpy are the orgnization (like the above example) and the speed.  numpy is essentially a bunch of code that is commonly used, but written in C because it is faster than python.  We can see this explicitely with an example"
   ]
  },
  {
   "cell_type": "code",
   "execution_count": 24,
   "metadata": {},
   "outputs": [],
   "source": [
    "import time"
   ]
  },
  {
   "cell_type": "code",
   "execution_count": 25,
   "metadata": {},
   "outputs": [],
   "source": [
    "def trad_version():\n",
    "    t1 = time.time() # what is the time when I start\n",
    "    X = range(int(1e7)) # arrange numbers 0, 10M -1\n",
    "    Y = range(int(1e7)) # arrange numbers 0, 10M -1\n",
    "    Z = [] \n",
    "    for i in range(len(X)):\n",
    "        Z.append(X[i] + Y[i]) # make a new list by adding the elements of X and Y\n",
    "    return time.time() - t1 # what is the difference from the time when I end and started"
   ]
  },
  {
   "cell_type": "code",
   "execution_count": 26,
   "metadata": {},
   "outputs": [],
   "source": [
    "def numpy_version():\n",
    "    t1 = time.time() # what is the time when I start\n",
    "    X = np.arange(int(1e7)) # arrange numbers 0, 10M -1\n",
    "    Y = np.arange(int(1e7))# arrange numbers 0, 10M -1\n",
    "    Z = X + Y # make a new list by adding the elements of X and Y\n",
    "    return time.time() - t1 # what is the difference from the time when I end and started"
   ]
  },
  {
   "cell_type": "code",
   "execution_count": 27,
   "metadata": {},
   "outputs": [
    {
     "name": "stdout",
     "output_type": "stream",
     "text": [
      "2.53304386138916 0.10484719276428223\n"
     ]
    }
   ],
   "source": [
    "print(trad_version(),numpy_version())"
   ]
  },
  {
   "cell_type": "markdown",
   "metadata": {},
   "source": [
    "So we see that numpy about 25x faster than doing the same thing with a list.  The commands are all very similar too."
   ]
  },
  {
   "cell_type": "markdown",
   "metadata": {},
   "source": [
    "### Some basic numpy tools"
   ]
  },
  {
   "cell_type": "markdown",
   "metadata": {},
   "source": [
    "A very convenient tool is to be able to make arrays of a given size and shape quickly.  Here are a few very common examples:"
   ]
  },
  {
   "cell_type": "code",
   "execution_count": 28,
   "metadata": {},
   "outputs": [
    {
     "name": "stdout",
     "output_type": "stream",
     "text": [
      "[0 1 2 3 4 5 6 7 8 9]\n",
      "[ 3  4  5  6  7  8  9 10 11 12 13]\n",
      "[ 3  5  7  9 11 13]\n",
      "[0.  0.1 0.2 0.3 0.4 0.5 0.6 0.7 0.8 0.9]\n"
     ]
    }
   ],
   "source": [
    "print(np.arange(10))\n",
    "print(np.arange(3,14))\n",
    "print(np.arange(3,14,2))\n",
    "print(np.arange(0,1,0.1))"
   ]
  },
  {
   "cell_type": "code",
   "execution_count": 29,
   "metadata": {},
   "outputs": [
    {
     "name": "stdout",
     "output_type": "stream",
     "text": [
      "[2.         2.33333333 2.66666667 3.         3.33333333 3.66666667\n",
      " 4.         4.33333333 4.66666667 5.        ]\n",
      "[2.  2.3 2.6 2.9 3.2 3.5 3.8 4.1 4.4 4.7]\n"
     ]
    }
   ],
   "source": [
    "print(np.linspace(2,5,10))\n",
    "print(np.linspace(2,5,10,endpoint=False))"
   ]
  },
  {
   "cell_type": "code",
   "execution_count": 30,
   "metadata": {},
   "outputs": [
    {
     "name": "stdout",
     "output_type": "stream",
     "text": [
      "[  1.           1.66810054   2.7825594    4.64158883   7.74263683\n",
      "  12.91549665  21.5443469   35.93813664  59.94842503 100.        ]\n"
     ]
    }
   ],
   "source": [
    "print(np.logspace(0,2,10))"
   ]
  },
  {
   "cell_type": "code",
   "execution_count": 31,
   "metadata": {},
   "outputs": [
    {
     "name": "stdout",
     "output_type": "stream",
     "text": [
      "[[1. 1. 1.]\n",
      " [1. 1. 1.]\n",
      " [1. 1. 1.]]\n",
      "[1. 1. 1. 1. 1. 1. 1. 1. 1. 1.]\n",
      "[[0. 0. 0.]\n",
      " [0. 0. 0.]\n",
      " [0. 0. 0.]]\n",
      "[0. 0. 0. 0. 0. 0. 0. 0. 0. 0.]\n"
     ]
    }
   ],
   "source": [
    "print(np.ones((3,3)))\n",
    "print(np.ones(10))\n",
    "print(np.zeros((3,3)))\n",
    "print(np.zeros(10))"
   ]
  },
  {
   "cell_type": "code",
   "execution_count": 32,
   "metadata": {},
   "outputs": [
    {
     "data": {
      "text/plain": [
       "array([[1, 0, 0],\n",
       "       [0, 2, 0],\n",
       "       [0, 0, 3]])"
      ]
     },
     "execution_count": 32,
     "metadata": {},
     "output_type": "execute_result"
    }
   ],
   "source": [
    "np.diag((1,2,3))"
   ]
  },
  {
   "cell_type": "code",
   "execution_count": 33,
   "metadata": {},
   "outputs": [
    {
     "data": {
      "text/plain": [
       "array([[1., 0., 0., 0., 0.],\n",
       "       [0., 1., 0., 0., 0.],\n",
       "       [0., 0., 1., 0., 0.],\n",
       "       [0., 0., 0., 1., 0.],\n",
       "       [0., 0., 0., 0., 1.]])"
      ]
     },
     "execution_count": 33,
     "metadata": {},
     "output_type": "execute_result"
    }
   ],
   "source": [
    "np.identity(5)"
   ]
  },
  {
   "cell_type": "markdown",
   "metadata": {},
   "source": [
    "All of these quickly generate a numpy array of a given shape. arange, linspace and logspace quickly give you an ordered list of numbers.  When you are sampling value of a function, solving a differential equation, etc. these all come in handy. "
   ]
  },
  {
   "cell_type": "markdown",
   "metadata": {},
   "source": [
    "ones is often useful if you just one to have a constant array, e.g. if you want to plot a horizonal line:"
   ]
  },
  {
   "cell_type": "code",
   "execution_count": 34,
   "metadata": {},
   "outputs": [
    {
     "data": {
      "text/plain": [
       "[<matplotlib.lines.Line2D at 0x7fc951c60d00>]"
      ]
     },
     "execution_count": 34,
     "metadata": {},
     "output_type": "execute_result"
    },
    {
     "data": {
      "image/png": "[encoded data removed]",
      "text/plain": [
       "<Figure size 432x288 with 1 Axes>"
      ]
     },
     "metadata": {
      "needs_background": "light"
     },
     "output_type": "display_data"
    }
   ],
   "source": [
    "x=np.arange(0,1,0.025)\n",
    "plt.plot(x,np.ones(len(x))*20)"
   ]
  },
  {
   "cell_type": "markdown",
   "metadata": {},
   "source": [
    "zeros can be useful just to create an array of a given shape that you want to populate with values later.  E.g. I want to find a value to put in, but it isn't easily expressable as an operation on the arrays"
   ]
  },
  {
   "cell_type": "code",
   "execution_count": 35,
   "metadata": {},
   "outputs": [],
   "source": [
    "y=np.zeros(len(x))\n",
    "for i in range(len(x)):\n",
    "    y[i]=x[i:].sum() # add up all the numbers in x, starting at the ith location"
   ]
  },
  {
   "cell_type": "code",
   "execution_count": 36,
   "metadata": {},
   "outputs": [
    {
     "name": "stdout",
     "output_type": "stream",
     "text": [
      "[19.5   19.5   19.475 19.425 19.35  19.25  19.125 18.975 18.8   18.6\n",
      " 18.375 18.125 17.85  17.55  17.225 16.875 16.5   16.1   15.675 15.225\n",
      " 14.75  14.25  13.725 13.175 12.6   12.    11.375 10.725 10.05   9.35\n",
      "  8.625  7.875  7.1    6.3    5.475  4.625  3.75   2.85   1.925  0.975]\n"
     ]
    }
   ],
   "source": [
    "print(y)"
   ]
  },
  {
   "cell_type": "markdown",
   "metadata": {},
   "source": [
    "zeros is also useful because you can quickly see if you did something wrong if there are too many entries that are still zero.  "
   ]
  },
  {
   "cell_type": "markdown",
   "metadata": {},
   "source": [
    "One of the very useful features of sum is that we can sum only a long one particular row or column of a numpy array with a more complicated shape.  E.g. suppose we have an array with a shape (3,3) and we want to sum along each row to get an array of shape (3,) that represents these three results:"
   ]
  },
  {
   "cell_type": "code",
   "execution_count": 37,
   "metadata": {},
   "outputs": [
    {
     "name": "stdout",
     "output_type": "stream",
     "text": [
      "[[0 1 2]\n",
      " [3 4 5]\n",
      " [6 7 8]]\n"
     ]
    }
   ],
   "source": [
    "sum_test=np.arange(9).reshape(3,3)\n",
    "print(sum_test)"
   ]
  },
  {
   "cell_type": "markdown",
   "metadata": {},
   "source": [
    "I can just add up all the numbers in the array as usual"
   ]
  },
  {
   "cell_type": "code",
   "execution_count": 38,
   "metadata": {},
   "outputs": [
    {
     "data": {
      "text/plain": [
       "36"
      ]
     },
     "execution_count": 38,
     "metadata": {},
     "output_type": "execute_result"
    }
   ],
   "source": [
    "sum_test.sum()"
   ]
  },
  {
   "cell_type": "markdown",
   "metadata": {},
   "source": [
    "But to sum along only the row or colum, I use the axis option "
   ]
  },
  {
   "cell_type": "code",
   "execution_count": 39,
   "metadata": {},
   "outputs": [
    {
     "data": {
      "text/plain": [
       "array([ 9, 12, 15])"
      ]
     },
     "execution_count": 39,
     "metadata": {},
     "output_type": "execute_result"
    }
   ],
   "source": [
    "sum_test.sum(axis=0)"
   ]
  },
  {
   "cell_type": "code",
   "execution_count": 40,
   "metadata": {},
   "outputs": [
    {
     "data": {
      "text/plain": [
       "9"
      ]
     },
     "execution_count": 40,
     "metadata": {},
     "output_type": "execute_result"
    }
   ],
   "source": [
    "sum_test[:,0].sum()"
   ]
  },
  {
   "cell_type": "code",
   "execution_count": 41,
   "metadata": {},
   "outputs": [
    {
     "data": {
      "text/plain": [
       "array([ 3, 12, 21])"
      ]
     },
     "execution_count": 41,
     "metadata": {},
     "output_type": "execute_result"
    }
   ],
   "source": [
    "sum_test.sum(axis=1)"
   ]
  },
  {
   "cell_type": "code",
   "execution_count": 42,
   "metadata": {},
   "outputs": [
    {
     "data": {
      "text/plain": [
       "3"
      ]
     },
     "execution_count": 42,
     "metadata": {},
     "output_type": "execute_result"
    }
   ],
   "source": [
    "sum_test[0,:].sum()"
   ]
  },
  {
   "cell_type": "markdown",
   "metadata": {},
   "source": [
    "This will be very useful, because it allows us to solve many problems simulaneously. E.g. we can imagine a (3,3) array as three different vectors.  E.g. let's say I had 100 different vectors and I wanted to know the length of each one.  Then I would do:"
   ]
  },
  {
   "cell_type": "code",
   "execution_count": 47,
   "metadata": {},
   "outputs": [
    {
     "name": "stdout",
     "output_type": "stream",
     "text": [
      "[[ 0  1  2]\n",
      " [ 3  4  5]\n",
      " [ 6  7  8]\n",
      " [ 9 10 11]\n",
      " [12 13 14]]\n"
     ]
    }
   ],
   "source": [
    "vec100=np.arange(300).reshape(100,3)\n",
    "print(vec100[0:5,:]) "
   ]
  },
  {
   "cell_type": "markdown",
   "metadata": {},
   "source": [
    "We calculate the length of every vector by suming the square along the second index (axis 1):"
   ]
  },
  {
   "cell_type": "code",
   "execution_count": 49,
   "metadata": {},
   "outputs": [],
   "source": [
    "length2=(vec100**2).sum(axis=1)"
   ]
  },
  {
   "cell_type": "code",
   "execution_count": 50,
   "metadata": {},
   "outputs": [
    {
     "data": {
      "text/plain": [
       "array([  2.23606798,   7.07106781,  12.20655562,  17.3781472 ,\n",
       "        22.56102835,  27.74887385,  32.93933818,  38.13135193,\n",
       "        43.32435804,  48.51803788,  53.71219601,  58.9067059 ,\n",
       "        64.10148204,  69.29646456,  74.49161027,  79.68688725,\n",
       "        84.88227141,  90.0777442 ,  95.27329112, 100.46890066,\n",
       "       105.6645636 , 110.86027242, 116.05602096, 121.25180411,\n",
       "       126.44761761, 131.64345787, 136.83932183, 142.0352069 ,\n",
       "       147.23111084, 152.42703172, 157.62296787, 162.81891782,\n",
       "       168.01488029, 173.21085416, 178.40683843, 183.60283222,\n",
       "       188.79883474, 193.99484529, 199.19086324, 204.38688803,\n",
       "       209.58291915, 214.77895614, 219.97499858, 225.1710461 ,\n",
       "       230.36709835, 235.56315501, 240.75921582, 245.95528049,\n",
       "       251.15134879, 256.34742051, 261.54349543, 266.73957337,\n",
       "       271.93565415, 277.13173763, 282.32782364, 287.52391205,\n",
       "       292.72000273, 297.91609557, 303.11219045, 308.30828727,\n",
       "       313.50438593, 318.70048635, 323.89658844, 329.09269211,\n",
       "       334.2887973 , 339.48490394, 344.68101195, 349.87712129,\n",
       "       355.07323188, 360.26934369, 365.46545664, 370.66157071,\n",
       "       375.85768583, 381.05380198, 386.24991909, 391.44603715,\n",
       "       396.64215611, 401.83827593, 407.03439658, 412.23051804,\n",
       "       417.42664026, 422.62276323, 427.81888691, 433.01501129,\n",
       "       438.21113633, 443.40726201, 448.60338831, 453.7995152 ,\n",
       "       458.99564268, 464.19177072, 469.38789929, 474.58402839,\n",
       "       479.78015799, 484.97628808, 490.17241864, 495.36854967,\n",
       "       500.56468114, 505.76081303, 510.95694535, 516.15307807])"
      ]
     },
     "execution_count": 50,
     "metadata": {},
     "output_type": "execute_result"
    }
   ],
   "source": [
    "np.sqrt(length2)"
   ]
  },
  {
   "cell_type": "markdown",
   "metadata": {},
   "source": [
    "We solved 100 problems at once without having to write a for loop."
   ]
  },
  {
   "cell_type": "markdown",
   "metadata": {},
   "source": [
    "## Meshgrids"
   ]
  },
  {
   "cell_type": "markdown",
   "metadata": {},
   "source": [
    "A useful tool when dealing with numpy arrays is the meshgrid.  It allows us to take a multiple vectors and use them to define a higher dimensional space.  The obviuos example is that you have variables x, y and you want to define a function of (x,y).  E.g. Let's define an electric field in terms of x and y on a grid"
   ]
  },
  {
   "cell_type": "code",
   "execution_count": null,
   "metadata": {},
   "outputs": [],
   "source": [
    "Lx=1.\n",
    "Ly=2.\n",
    "n=5\n",
    "x_array=np.linspace(0,Lx,n,endpoint=True)\n",
    "y_array=np.linspace(0,Ly,n,endpoint=True)"
   ]
  },
  {
   "cell_type": "markdown",
   "metadata": {},
   "source": [
    "so x_array and y_array are just 1d numpy arrays that list the x and y coordinates we want.  Now suppose you want $E_x = 5 \\sin(2. \\pi x/ Lx) \\cos(2. \\pi y/Ly)$.  You can't just multiply np.sin(x_array) np.cos(y_array) because that will return a 1d array of n values.  You want it to give a array of (n,n) as the shape (i.e. it gives a different value for each x and y you use.  So we make a meshgrid"
   ]
  },
  {
   "cell_type": "code",
   "execution_count": null,
   "metadata": {},
   "outputs": [],
   "source": [
    "x,y=np.meshgrid(x_array,y_array,indexing='ij')"
   ]
  },
  {
   "cell_type": "code",
   "execution_count": null,
   "metadata": {},
   "outputs": [],
   "source": [
    "print(x)\n",
    "print(x[:,0])\n",
    "print(x[0,:])"
   ]
  },
  {
   "cell_type": "code",
   "execution_count": null,
   "metadata": {},
   "outputs": [],
   "source": [
    "print(y)\n",
    "print(y[:,0])\n",
    "print(y[0,:])"
   ]
  },
  {
   "cell_type": "markdown",
   "metadata": {},
   "source": [
    "So now we can define the x-component of the electric field just by multiplying the arrays:"
   ]
  },
  {
   "cell_type": "code",
   "execution_count": null,
   "metadata": {},
   "outputs": [],
   "source": [
    "Ex=5*np.sin(2.*pi*x/ Lx)*np.cos(2.*pi*y/Ly)"
   ]
  },
  {
   "cell_type": "code",
   "execution_count": null,
   "metadata": {},
   "outputs": [],
   "source": [
    "Ex"
   ]
  },
  {
   "cell_type": "code",
   "execution_count": null,
   "metadata": {},
   "outputs": [],
   "source": [
    "Ey=10.*np.sin(2.*pi*y/Ly)"
   ]
  },
  {
   "cell_type": "code",
   "execution_count": null,
   "metadata": {},
   "outputs": [],
   "source": [
    "plt.figure()\n",
    "plt.quiver(x, y, Ex, Ey, units='width')\n",
    "plt.show()"
   ]
  },
  {
   "cell_type": "markdown",
   "metadata": {},
   "source": [
    "Now let's try in for 3d (x,y,z).  Let's just make a temperature in a box so that $T(x,y,z)= (x+2y) z$.  So we want to add a z-variable and make a higher dimensional array:"
   ]
  },
  {
   "cell_type": "code",
   "execution_count": null,
   "metadata": {},
   "outputs": [],
   "source": [
    "Lz=3\n",
    "z_array=np.linspace(0,Lz,n,endpoint=True)"
   ]
  },
  {
   "cell_type": "code",
   "execution_count": null,
   "metadata": {},
   "outputs": [],
   "source": [
    "x,y,z=np.meshgrid(x_array,y_array,z_array)"
   ]
  },
  {
   "cell_type": "code",
   "execution_count": null,
   "metadata": {},
   "outputs": [],
   "source": [
    "print(x[0,:,0])\n",
    "print(y[:,0,0])\n",
    "print(z[0,0,:])"
   ]
  },
  {
   "cell_type": "code",
   "execution_count": null,
   "metadata": {},
   "outputs": [],
   "source": [
    "T=(x+2*y)*z"
   ]
  },
  {
   "cell_type": "code",
   "execution_count": null,
   "metadata": {},
   "outputs": [],
   "source": [
    "T"
   ]
  },
  {
   "cell_type": "markdown",
   "metadata": {},
   "source": [
    "Now we see that there is an easier way we could find the distance for a bunch of different, time, velocities and accelertaions all at once!"
   ]
  },
  {
   "cell_type": "code",
   "execution_count": null,
   "metadata": {},
   "outputs": [],
   "source": [
    "num=20\n",
    "t_list=np.linspace(0,10,100)\n",
    "v_list=2*np.linspace(0,10,num)\n",
    "a_list=3*np.linspace(0,1,num)"
   ]
  },
  {
   "cell_type": "code",
   "execution_count": null,
   "metadata": {},
   "outputs": [],
   "source": [
    "print(a_list)"
   ]
  },
  {
   "cell_type": "code",
   "execution_count": null,
   "metadata": {},
   "outputs": [],
   "source": [
    "t,v,a=np.meshgrid(t_list,v_list,a_list)"
   ]
  },
  {
   "cell_type": "code",
   "execution_count": null,
   "metadata": {},
   "outputs": [],
   "source": [
    "final_d=position(t,0,v,a)"
   ]
  },
  {
   "cell_type": "code",
   "execution_count": null,
   "metadata": {},
   "outputs": [],
   "source": [
    "final_d[1,:,2]"
   ]
  },
  {
   "cell_type": "code",
   "execution_count": null,
   "metadata": {},
   "outputs": [],
   "source": [
    "t[0,:,0]"
   ]
  },
  {
   "cell_type": "code",
   "execution_count": null,
   "metadata": {},
   "outputs": [],
   "source": [
    "for i in range(num):\n",
    "    for j in range(num):\n",
    "        plt.plot(t_list,final_d[i,:,j])"
   ]
  },
  {
   "cell_type": "markdown",
   "metadata": {},
   "source": [
    "Look, we found 400 solution at 100 points in time and plotted all of them without breaking a sweat!"
   ]
  },
  {
   "cell_type": "code",
   "execution_count": null,
   "metadata": {},
   "outputs": [],
   "source": []
  }
 ],
 "metadata": {
  "kernelspec": {
   "display_name": "Python 3 (ipykernel)",
   "language": "python",
   "name": "python3"
  },
  "language_info": {
   "codemirror_mode": {
    "name": "ipython",
    "version": 3
   },
   "file_extension": ".py",
   "mimetype": "text/x-python",
   "name": "python",
   "nbconvert_exporter": "python",
   "pygments_lexer": "ipython3",
   "version": "3.9.7"
  }
 },
 "nbformat": 4,
 "nbformat_minor": 2
}
