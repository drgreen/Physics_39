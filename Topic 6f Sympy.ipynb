{
 "cells": [
  {
   "cell_type": "markdown",
   "id": "14595680",
   "metadata": {},
   "source": [
    "## Symbolic Computing"
   ]
  },
  {
   "cell_type": "code",
   "execution_count": 2,
   "id": "2dc3b78f",
   "metadata": {},
   "outputs": [],
   "source": [
    "import sympy\n",
    "sympy.init_printing()\n",
    "import numpy as np"
   ]
  },
  {
   "cell_type": "markdown",
   "id": "759382c4",
   "metadata": {},
   "source": [
    "The emphasis in this course has been the use of computers for manipulting data or using numerical techniques to solve problems. These are central problems in scientific computing and are good windows into how computers work.\n",
    "\n",
    "Of course, computers can be designed to do much more complex tasks and we should use computers when they are available to simplify/speed up/check our work. Symbolic computing is an excellent example of a computer resource that can assist in solving problems that we might usually associate with a human and a piece of paper. Fundamentally, the computer can do a lot of our math for us, so we should use it to check our results at the very least."
   ]
  },
  {
   "cell_type": "markdown",
   "id": "07ab8928",
   "metadata": {},
   "source": [
    "Sympy is a python library that can do a lot of math for us, in this way.  It is similar to mathematica in both function and design, but is freely available. One of the most basic sources of confusion is that these symbolic tools try to avoid making any assumptions:"
   ]
  },
  {
   "cell_type": "code",
   "execution_count": 3,
   "id": "41c463d6",
   "metadata": {},
   "outputs": [],
   "source": [
    "x=sympy.Symbol('x')"
   ]
  },
  {
   "cell_type": "code",
   "execution_count": 4,
   "id": "9afe4489",
   "metadata": {},
   "outputs": [
    {
     "data": {
      "image/png": "[encoded data removed]",
      "text/latex": [
       "$\\displaystyle \\sqrt{x^{2}}$"
      ],
      "text/plain": [
       "   ____\n",
       "  ╱  2 \n",
       "╲╱  x  "
      ]
     },
     "execution_count": 4,
     "metadata": {},
     "output_type": "execute_result"
    }
   ],
   "source": [
    "sympy.sqrt(x**2)"
   ]
  },
  {
   "cell_type": "markdown",
   "id": "7074e2ec",
   "metadata": {},
   "source": [
    "Sympy does not know how to simplify this expression. What if $x$ is a complex number? We will get different answers depending on our assumptions:"
   ]
  },
  {
   "cell_type": "code",
   "execution_count": 5,
   "id": "b03c514e",
   "metadata": {},
   "outputs": [],
   "source": [
    "y=sympy.Symbol('y',real=True)"
   ]
  },
  {
   "cell_type": "code",
   "execution_count": 6,
   "id": "ef7af175",
   "metadata": {},
   "outputs": [
    {
     "data": {
      "image/png": "[encoded data removed]",
      "text/latex": [
       "$\\displaystyle \\left|{y}\\right|$"
      ],
      "text/plain": [
       "│y│"
      ]
     },
     "execution_count": 6,
     "metadata": {},
     "output_type": "execute_result"
    }
   ],
   "source": [
    "sympy.sqrt(y**2)"
   ]
  },
  {
   "cell_type": "code",
   "execution_count": 7,
   "id": "3310ed13",
   "metadata": {},
   "outputs": [],
   "source": [
    "y=sympy.Symbol('y',positive=True)"
   ]
  },
  {
   "cell_type": "code",
   "execution_count": 8,
   "id": "9a1247b3",
   "metadata": {},
   "outputs": [
    {
     "data": {
      "image/png": "[encoded data removed]",
      "text/latex": [
       "$\\displaystyle y$"
      ],
      "text/plain": [
       "y"
      ]
     },
     "execution_count": 8,
     "metadata": {},
     "output_type": "execute_result"
    }
   ],
   "source": [
    "sympy.sqrt(y**2)"
   ]
  },
  {
   "cell_type": "code",
   "execution_count": 9,
   "id": "fabcd059",
   "metadata": {},
   "outputs": [],
   "source": [
    "n1=sympy.Symbol('n1',integer=True)\n",
    "n2=sympy.Symbol('n2',odd=True)"
   ]
  },
  {
   "cell_type": "code",
   "execution_count": 10,
   "id": "4d664f2f",
   "metadata": {},
   "outputs": [
    {
     "data": {
      "image/png": "[encoded data removed]",
      "text/latex": [
       "$\\displaystyle \\left(-1\\right)^{n_{1}}$"
      ],
      "text/plain": [
       "    n₁\n",
       "(-1)  "
      ]
     },
     "execution_count": 10,
     "metadata": {},
     "output_type": "execute_result"
    }
   ],
   "source": [
    "sympy.cos(sympy.pi*n1)"
   ]
  },
  {
   "cell_type": "code",
   "execution_count": 11,
   "id": "424e5d1e",
   "metadata": {},
   "outputs": [
    {
     "data": {
      "image/png": "[encoded data removed]",
      "text/latex": [
       "$\\displaystyle -1$"
      ],
      "text/plain": [
       "-1"
      ]
     },
     "execution_count": 11,
     "metadata": {},
     "output_type": "execute_result"
    }
   ],
   "source": [
    "sympy.cos(sympy.pi*n2)"
   ]
  },
  {
   "cell_type": "markdown",
   "id": "008a103c",
   "metadata": {},
   "source": [
    "## Manipulating Expressions"
   ]
  },
  {
   "cell_type": "markdown",
   "id": "cf9fafbd",
   "metadata": {},
   "source": [
    "We can define experessions you might want to work with"
   ]
  },
  {
   "cell_type": "code",
   "execution_count": 12,
   "id": "abd1f510",
   "metadata": {},
   "outputs": [],
   "source": [
    "exp=x**2+x*(x*2+x*2)+x*(x+1)+3"
   ]
  },
  {
   "cell_type": "code",
   "execution_count": 13,
   "id": "be4e2f0f",
   "metadata": {},
   "outputs": [
    {
     "data": {
      "image/png": "[encoded data removed]",
      "text/latex": [
       "$\\displaystyle 5 x^{2} + x \\left(x + 1\\right) + 3$"
      ],
      "text/plain": [
       "   2                \n",
       "5⋅x  + x⋅(x + 1) + 3"
      ]
     },
     "execution_count": 13,
     "metadata": {},
     "output_type": "execute_result"
    }
   ],
   "source": [
    "exp"
   ]
  },
  {
   "cell_type": "markdown",
   "id": "47d5a95f",
   "metadata": {},
   "source": [
    "We can simplify these expressions two ways:"
   ]
  },
  {
   "cell_type": "code",
   "execution_count": 14,
   "id": "7ec7fbde",
   "metadata": {},
   "outputs": [
    {
     "data": {
      "image/png": "[encoded data removed]",
      "text/latex": [
       "$\\displaystyle 6 x^{2} + x + 3$"
      ],
      "text/plain": [
       "   2        \n",
       "6⋅x  + x + 3"
      ]
     },
     "execution_count": 14,
     "metadata": {},
     "output_type": "execute_result"
    }
   ],
   "source": [
    "sympy.simplify(exp)"
   ]
  },
  {
   "cell_type": "code",
   "execution_count": 15,
   "id": "1bbdc972",
   "metadata": {},
   "outputs": [
    {
     "data": {
      "image/png": "[encoded data removed]",
      "text/latex": [
       "$\\displaystyle 6 x^{2} + x + 3$"
      ],
      "text/plain": [
       "   2        \n",
       "6⋅x  + x + 3"
      ]
     },
     "execution_count": 15,
     "metadata": {},
     "output_type": "execute_result"
    }
   ],
   "source": [
    "exp.simplify()"
   ]
  },
  {
   "cell_type": "markdown",
   "id": "435a9fd5",
   "metadata": {},
   "source": [
    "Similarly we can factor expressions"
   ]
  },
  {
   "cell_type": "code",
   "execution_count": 16,
   "id": "d75e4810",
   "metadata": {},
   "outputs": [],
   "source": [
    "exp2=x**2+2*x+1"
   ]
  },
  {
   "cell_type": "code",
   "execution_count": 17,
   "id": "c89144d1",
   "metadata": {},
   "outputs": [
    {
     "data": {
      "image/png": "[encoded data removed]",
      "text/latex": [
       "$\\displaystyle x^{2} + 2 x + 1$"
      ],
      "text/plain": [
       " 2          \n",
       "x  + 2⋅x + 1"
      ]
     },
     "execution_count": 17,
     "metadata": {},
     "output_type": "execute_result"
    }
   ],
   "source": [
    "exp2"
   ]
  },
  {
   "cell_type": "code",
   "execution_count": 18,
   "id": "e92a0fe3",
   "metadata": {},
   "outputs": [
    {
     "data": {
      "image/png": "[encoded data removed]",
      "text/latex": [
       "$\\displaystyle \\left(x + 1\\right)^{2}$"
      ],
      "text/plain": [
       "       2\n",
       "(x + 1) "
      ]
     },
     "execution_count": 18,
     "metadata": {},
     "output_type": "execute_result"
    }
   ],
   "source": [
    "sympy.factor(exp2)"
   ]
  },
  {
   "cell_type": "code",
   "execution_count": 19,
   "id": "696f7b4e",
   "metadata": {},
   "outputs": [
    {
     "data": {
      "image/png": "[encoded data removed]",
      "text/latex": [
       "$\\displaystyle \\left(x + 1\\right)^{2}$"
      ],
      "text/plain": [
       "       2\n",
       "(x + 1) "
      ]
     },
     "execution_count": 19,
     "metadata": {},
     "output_type": "execute_result"
    }
   ],
   "source": [
    "exp2.factor()"
   ]
  },
  {
   "cell_type": "markdown",
   "id": "50be5c20",
   "metadata": {},
   "source": [
    "or expand"
   ]
  },
  {
   "cell_type": "code",
   "execution_count": 20,
   "id": "b290e757",
   "metadata": {},
   "outputs": [
    {
     "data": {
      "image/png": "[encoded data removed]",
      "text/latex": [
       "$\\displaystyle x^{5} + 10 x^{4} + 40 x^{3} + 80 x^{2} + 80 x + 32$"
      ],
      "text/plain": [
       " 5       4       3       2            \n",
       "x  + 10⋅x  + 40⋅x  + 80⋅x  + 80⋅x + 32"
      ]
     },
     "execution_count": 20,
     "metadata": {},
     "output_type": "execute_result"
    }
   ],
   "source": [
    "((x+2)**5).expand()"
   ]
  },
  {
   "cell_type": "code",
   "execution_count": 21,
   "id": "9a17e932",
   "metadata": {},
   "outputs": [
    {
     "data": {
      "image/png": "[encoded data removed]",
      "text/latex": [
       "$\\displaystyle \\sin{\\left(x \\right)} \\cos{\\left(y \\right)} + \\sin{\\left(y \\right)} \\cos{\\left(x \\right)}$"
      ],
      "text/plain": [
       "sin(x)⋅cos(y) + sin(y)⋅cos(x)"
      ]
     },
     "execution_count": 21,
     "metadata": {},
     "output_type": "execute_result"
    }
   ],
   "source": [
    "sympy.sin(x+y).expand(trig=True)"
   ]
  },
  {
   "cell_type": "markdown",
   "id": "dc05c0d3",
   "metadata": {},
   "source": [
    "### Evaluating Expressions "
   ]
  },
  {
   "cell_type": "markdown",
   "id": "07bec3aa",
   "metadata": {},
   "source": [
    "In a lot of situations, we need to combine our symbolic work with something numerical.  Sometimes, this means we just want to force the computer to return a demical instead of a symbolic expression for the number:"
   ]
  },
  {
   "cell_type": "code",
   "execution_count": 22,
   "id": "97edba54",
   "metadata": {},
   "outputs": [
    {
     "data": {
      "image/png": "[encoded data removed]",
      "text/latex": [
       "$\\displaystyle 3.14159265358979$"
      ],
      "text/plain": [
       "3.14159265358979"
      ]
     },
     "execution_count": 22,
     "metadata": {},
     "output_type": "execute_result"
    }
   ],
   "source": [
    "sympy.N(sympy.pi)"
   ]
  },
  {
   "cell_type": "code",
   "execution_count": 23,
   "id": "b7f84458",
   "metadata": {},
   "outputs": [
    {
     "data": {
      "image/png": "[encoded data removed]",
      "text/latex": [
       "$\\displaystyle 3.1415926535897932384626433832795028841971693993751$"
      ],
      "text/plain": [
       "3.1415926535897932384626433832795028841971693993751"
      ]
     },
     "execution_count": 23,
     "metadata": {},
     "output_type": "execute_result"
    }
   ],
   "source": [
    "sympy.N(sympy.pi,50) # tell it you want 50 decimal places"
   ]
  },
  {
   "cell_type": "code",
   "execution_count": 24,
   "id": "df89d314",
   "metadata": {},
   "outputs": [
    {
     "data": {
      "image/png": "[encoded data removed]",
      "text/latex": [
       "$\\displaystyle \\cos{\\left(1 \\right)}$"
      ],
      "text/plain": [
       "cos(1)"
      ]
     },
     "execution_count": 24,
     "metadata": {},
     "output_type": "execute_result"
    }
   ],
   "source": [
    "sympy.cos(1)"
   ]
  },
  {
   "cell_type": "code",
   "execution_count": 25,
   "id": "fae3f0fa",
   "metadata": {},
   "outputs": [
    {
     "data": {
      "image/png": "[encoded data removed]",
      "text/latex": [
       "$\\displaystyle 0.54030230586814$"
      ],
      "text/plain": [
       "0.540302305868140"
      ]
     },
     "execution_count": 25,
     "metadata": {},
     "output_type": "execute_result"
    }
   ],
   "source": [
    "sympy.N(sympy.cos(1))"
   ]
  },
  {
   "cell_type": "markdown",
   "id": "0be3d03d",
   "metadata": {},
   "source": [
    "In other situations, we have found a function that we want to be able to evaluate numerically:"
   ]
  },
  {
   "cell_type": "code",
   "execution_count": 26,
   "id": "c0bfe01c",
   "metadata": {},
   "outputs": [
    {
     "data": {
      "image/png": "[encoded data removed]",
      "text/latex": [
       "$\\displaystyle 5 x^{2} + x \\left(x + 1\\right) + 3$"
      ],
      "text/plain": [
       "   2                \n",
       "5⋅x  + x⋅(x + 1) + 3"
      ]
     },
     "execution_count": 26,
     "metadata": {},
     "output_type": "execute_result"
    }
   ],
   "source": [
    "exp"
   ]
  },
  {
   "cell_type": "markdown",
   "id": "f4f6b9ca",
   "metadata": {},
   "source": [
    "We can just substitute $x$ with a number (or another variable) if we like"
   ]
  },
  {
   "cell_type": "code",
   "execution_count": 27,
   "id": "fcae2cb1",
   "metadata": {},
   "outputs": [
    {
     "data": {
      "image/png": "[encoded data removed]",
      "text/latex": [
       "$\\displaystyle 613$"
      ],
      "text/plain": [
       "613"
      ]
     },
     "execution_count": 27,
     "metadata": {},
     "output_type": "execute_result"
    }
   ],
   "source": [
    "exp.subs(x,10)"
   ]
  },
  {
   "cell_type": "markdown",
   "id": "84d5618d",
   "metadata": {},
   "source": [
    "But we can also define an actual function we can use as normal with lambdify"
   ]
  },
  {
   "cell_type": "code",
   "execution_count": 28,
   "id": "bf27be1e",
   "metadata": {},
   "outputs": [],
   "source": [
    "exp_fnc=sympy.lambdify(x,exp)"
   ]
  },
  {
   "cell_type": "code",
   "execution_count": 29,
   "id": "514f4b4f",
   "metadata": {},
   "outputs": [
    {
     "data": {
      "image/png": "[encoded data removed]",
      "text/latex": [
       "$\\displaystyle 613$"
      ],
      "text/plain": [
       "613"
      ]
     },
     "execution_count": 29,
     "metadata": {},
     "output_type": "execute_result"
    }
   ],
   "source": [
    "exp_fnc(10)"
   ]
  },
  {
   "cell_type": "code",
   "execution_count": 30,
   "id": "710f4d2e",
   "metadata": {},
   "outputs": [],
   "source": [
    "x_array=np.linspace(1,10,10)"
   ]
  },
  {
   "cell_type": "code",
   "execution_count": 31,
   "id": "ad07e1e9",
   "metadata": {},
   "outputs": [
    {
     "data": {
      "text/plain": [
       "array([ 10.,  29.,  60., 103., 158., 225., 304., 395., 498., 613.])"
      ]
     },
     "execution_count": 31,
     "metadata": {},
     "output_type": "execute_result"
    }
   ],
   "source": [
    "exp_fnc(x_array)"
   ]
  },
  {
   "cell_type": "code",
   "execution_count": 32,
   "id": "a7fb53af",
   "metadata": {},
   "outputs": [],
   "source": [
    "exp3=sympy.sin(x**2)"
   ]
  },
  {
   "cell_type": "code",
   "execution_count": 33,
   "id": "066830bd",
   "metadata": {},
   "outputs": [],
   "source": [
    "exp_fnc3=sympy.lambdify(x,exp3)"
   ]
  },
  {
   "cell_type": "code",
   "execution_count": 34,
   "id": "56b49d07",
   "metadata": {},
   "outputs": [
    {
     "data": {
      "text/plain": [
       "array([ 0.84147098, -0.7568025 ,  0.41211849, -0.28790332, -0.13235175,\n",
       "       -0.99177885, -0.95375265,  0.92002604, -0.62988799, -0.50636564])"
      ]
     },
     "execution_count": 34,
     "metadata": {},
     "output_type": "execute_result"
    }
   ],
   "source": [
    "exp_fnc3(x_array)"
   ]
  },
  {
   "cell_type": "markdown",
   "id": "48eb953d",
   "metadata": {},
   "source": [
    "### Solving Equations"
   ]
  },
  {
   "cell_type": "markdown",
   "id": "759d2054",
   "metadata": {},
   "source": [
    "Not suprisingly, sympy is pretty good at solving equations."
   ]
  },
  {
   "cell_type": "code",
   "execution_count": 35,
   "id": "abdd7135",
   "metadata": {},
   "outputs": [
    {
     "data": {
      "image/png": "[encoded data removed]",
      "text/latex": [
       "$\\displaystyle \\left[ -1, \\  1\\right]$"
      ],
      "text/plain": [
       "[-1, 1]"
      ]
     },
     "execution_count": 35,
     "metadata": {},
     "output_type": "execute_result"
    }
   ],
   "source": [
    "sympy.solve(x**2-1)"
   ]
  },
  {
   "cell_type": "code",
   "execution_count": 36,
   "id": "e9f513c7",
   "metadata": {},
   "outputs": [
    {
     "data": {
      "image/png": "[encoded data removed]",
      "text/latex": [
       "$\\displaystyle \\left[ 0, \\  \\pi\\right]$"
      ],
      "text/plain": [
       "[0, π]"
      ]
     },
     "execution_count": 36,
     "metadata": {},
     "output_type": "execute_result"
    }
   ],
   "source": [
    "sympy.solve(sympy.sin(x))"
   ]
  },
  {
   "cell_type": "code",
   "execution_count": 37,
   "id": "9b1c0533",
   "metadata": {},
   "outputs": [
    {
     "data": {
      "image/png": "[encoded data removed]",
      "text/latex": [
       "$\\displaystyle \\left\\{ x : -2, \\  y : 1\\right\\}$"
      ],
      "text/plain": [
       "{x: -2, y: 1}"
      ]
     },
     "execution_count": 37,
     "metadata": {},
     "output_type": "execute_result"
    }
   ],
   "source": [
    "sympy.solve([x+y+1,x+2*y],[x,y])"
   ]
  },
  {
   "cell_type": "markdown",
   "id": "20138e06",
   "metadata": {},
   "source": [
    "## Calculus"
   ]
  },
  {
   "cell_type": "markdown",
   "id": "6ac3bba5",
   "metadata": {},
   "source": [
    "Calculus is one of the symbolic tools that tends to be very powerful and reliable. In some cases it would be enormously difficult to do it yourself yet the computer seems to find a nice answer quickly."
   ]
  },
  {
   "cell_type": "markdown",
   "id": "2aaa01a8",
   "metadata": {},
   "source": [
    "#### Derivatives"
   ]
  },
  {
   "cell_type": "code",
   "execution_count": 38,
   "id": "340880c2",
   "metadata": {},
   "outputs": [
    {
     "data": {
      "image/png": "[encoded data removed]",
      "text/latex": [
       "$\\displaystyle \\sin{\\left(x \\cos{\\left(x^{2} + x + 2 \\right)} \\right)}$"
      ],
      "text/plain": [
       "   ⎛     ⎛ 2        ⎞⎞\n",
       "sin⎝x⋅cos⎝x  + x + 2⎠⎠"
      ]
     },
     "execution_count": 38,
     "metadata": {},
     "output_type": "execute_result"
    }
   ],
   "source": [
    "exp4=sympy.sin(x*sympy.cos(x**2 +x+2))\n",
    "exp4"
   ]
  },
  {
   "cell_type": "code",
   "execution_count": 39,
   "id": "098a77f9",
   "metadata": {},
   "outputs": [
    {
     "data": {
      "image/png": "[encoded data removed]",
      "text/latex": [
       "$\\displaystyle \\left(- x \\left(2 x + 1\\right) \\sin{\\left(x^{2} + x + 2 \\right)} + \\cos{\\left(x^{2} + x + 2 \\right)}\\right) \\cos{\\left(x \\cos{\\left(x^{2} + x + 2 \\right)} \\right)}$"
      ],
      "text/plain": [
       "⎛                 ⎛ 2        ⎞      ⎛ 2        ⎞⎞    ⎛     ⎛ 2        ⎞⎞\n",
       "⎝- x⋅(2⋅x + 1)⋅sin⎝x  + x + 2⎠ + cos⎝x  + x + 2⎠⎠⋅cos⎝x⋅cos⎝x  + x + 2⎠⎠"
      ]
     },
     "execution_count": 39,
     "metadata": {},
     "output_type": "execute_result"
    }
   ],
   "source": [
    "sympy.diff(exp4)"
   ]
  },
  {
   "cell_type": "code",
   "execution_count": 40,
   "id": "35ffe14f",
   "metadata": {},
   "outputs": [
    {
     "data": {
      "image/png": "[encoded data removed]",
      "text/latex": [
       "$\\displaystyle \\left(- x \\left(2 x + 1\\right) \\sin{\\left(x^{2} + x + 2 \\right)} + \\cos{\\left(x^{2} + x + 2 \\right)}\\right) \\cos{\\left(x \\cos{\\left(x^{2} + x + 2 \\right)} \\right)}$"
      ],
      "text/plain": [
       "⎛                 ⎛ 2        ⎞      ⎛ 2        ⎞⎞    ⎛     ⎛ 2        ⎞⎞\n",
       "⎝- x⋅(2⋅x + 1)⋅sin⎝x  + x + 2⎠ + cos⎝x  + x + 2⎠⎠⋅cos⎝x⋅cos⎝x  + x + 2⎠⎠"
      ]
     },
     "execution_count": 40,
     "metadata": {},
     "output_type": "execute_result"
    }
   ],
   "source": [
    "exp4.diff(x)"
   ]
  },
  {
   "cell_type": "code",
   "execution_count": 41,
   "id": "e31a3015",
   "metadata": {},
   "outputs": [
    {
     "data": {
      "image/png": "[encoded data removed]",
      "text/latex": [
       "$\\displaystyle - \\left(x \\left(2 x + 1\\right) \\sin{\\left(x^{2} + x + 2 \\right)} - \\cos{\\left(x^{2} + x + 2 \\right)}\\right)^{2} \\sin{\\left(x \\cos{\\left(x^{2} + x + 2 \\right)} \\right)} - \\left(x \\left(2 x + 1\\right)^{2} \\cos{\\left(x^{2} + x + 2 \\right)} + 2 x \\sin{\\left(x^{2} + x + 2 \\right)} + \\left(4 x + 2\\right) \\sin{\\left(x^{2} + x + 2 \\right)}\\right) \\cos{\\left(x \\cos{\\left(x^{2} + x + 2 \\right)} \\right)}$"
      ],
      "text/plain": [
       "                                                 2                            \n",
       "  ⎛               ⎛ 2        ⎞      ⎛ 2        ⎞⎞     ⎛     ⎛ 2        ⎞⎞   ⎛ \n",
       "- ⎝x⋅(2⋅x + 1)⋅sin⎝x  + x + 2⎠ - cos⎝x  + x + 2⎠⎠ ⋅sin⎝x⋅cos⎝x  + x + 2⎠⎠ - ⎝x\n",
       "\n",
       "                                                                              \n",
       "          2    ⎛ 2        ⎞          ⎛ 2        ⎞                ⎛ 2        ⎞⎞\n",
       "⋅(2⋅x + 1) ⋅cos⎝x  + x + 2⎠ + 2⋅x⋅sin⎝x  + x + 2⎠ + (4⋅x + 2)⋅sin⎝x  + x + 2⎠⎠\n",
       "\n",
       "                       \n",
       "    ⎛     ⎛ 2        ⎞⎞\n",
       "⋅cos⎝x⋅cos⎝x  + x + 2⎠⎠"
      ]
     },
     "execution_count": 41,
     "metadata": {},
     "output_type": "execute_result"
    }
   ],
   "source": [
    "exp4.diff(x,x).simplify()"
   ]
  },
  {
   "cell_type": "code",
   "execution_count": 42,
   "id": "b682da9f",
   "metadata": {},
   "outputs": [],
   "source": [
    "exp5=x**2*y+y**3*x+x+3*y"
   ]
  },
  {
   "cell_type": "code",
   "execution_count": 43,
   "id": "93135a0a",
   "metadata": {},
   "outputs": [
    {
     "data": {
      "image/png": "[encoded data removed]",
      "text/latex": [
       "$\\displaystyle x^{2} + 3 x y^{2} + 3$"
      ],
      "text/plain": [
       " 2        2    \n",
       "x  + 3⋅x⋅y  + 3"
      ]
     },
     "execution_count": 43,
     "metadata": {},
     "output_type": "execute_result"
    }
   ],
   "source": [
    "exp5.diff(y)"
   ]
  },
  {
   "cell_type": "code",
   "execution_count": 44,
   "id": "62c3e092",
   "metadata": {},
   "outputs": [
    {
     "data": {
      "image/png": "[encoded data removed]",
      "text/latex": [
       "$\\displaystyle 2 x y + y^{3} + 1$"
      ],
      "text/plain": [
       "         3    \n",
       "2⋅x⋅y + y  + 1"
      ]
     },
     "execution_count": 44,
     "metadata": {},
     "output_type": "execute_result"
    }
   ],
   "source": [
    "exp5.diff(x)"
   ]
  },
  {
   "cell_type": "code",
   "execution_count": 45,
   "id": "f33fda49",
   "metadata": {},
   "outputs": [
    {
     "data": {
      "image/png": "[encoded data removed]",
      "text/latex": [
       "$\\displaystyle 2 x + 3 y^{2}$"
      ],
      "text/plain": [
       "         2\n",
       "2⋅x + 3⋅y "
      ]
     },
     "execution_count": 45,
     "metadata": {},
     "output_type": "execute_result"
    }
   ],
   "source": [
    "exp5.diff(x,y)"
   ]
  },
  {
   "cell_type": "markdown",
   "id": "e2628711",
   "metadata": {},
   "source": [
    "#### Series"
   ]
  },
  {
   "cell_type": "markdown",
   "id": "280cab00",
   "metadata": {},
   "source": [
    "An extremely useful tool when trying to understand functions is the Taylor series around a given point"
   ]
  },
  {
   "cell_type": "code",
   "execution_count": 46,
   "id": "9d508ea4",
   "metadata": {},
   "outputs": [
    {
     "data": {
      "image/png": "[encoded data removed]",
      "text/latex": [
       "$\\displaystyle x \\cos{\\left(2 \\right)} - x^{2} \\sin{\\left(2 \\right)} + O\\left(x^{3}\\right)$"
      ],
      "text/plain": [
       "            2           ⎛ 3⎞\n",
       "x⋅cos(2) - x ⋅sin(2) + O⎝x ⎠"
      ]
     },
     "execution_count": 46,
     "metadata": {},
     "output_type": "execute_result"
    }
   ],
   "source": [
    "exp4.series(x,0,3) # this means: series wrt x, at x=0 to order x^3."
   ]
  },
  {
   "cell_type": "markdown",
   "id": "57e88331",
   "metadata": {},
   "source": [
    "This becomes much more useful when you start dealing with functions you don't konw a lot about"
   ]
  },
  {
   "cell_type": "code",
   "execution_count": 47,
   "id": "fcaab46b",
   "metadata": {},
   "outputs": [
    {
     "data": {
      "image/png": "[encoded data removed]",
      "text/latex": [
       "$\\displaystyle \\frac{x^{2}}{8} + O\\left(x^{3}\\right)$"
      ],
      "text/plain": [
       " 2        \n",
       "x     ⎛ 3⎞\n",
       "── + O⎝x ⎠\n",
       "8         "
      ]
     },
     "execution_count": 47,
     "metadata": {},
     "output_type": "execute_result"
    }
   ],
   "source": [
    "sympy.besselj(2,x).series(x,0,3)"
   ]
  },
  {
   "cell_type": "markdown",
   "id": "0cc952fb",
   "metadata": {},
   "source": [
    "Importantly, series is not really a Taylor series.  In includes inverse powers as well:"
   ]
  },
  {
   "cell_type": "code",
   "execution_count": 48,
   "id": "3ac92ee8",
   "metadata": {},
   "outputs": [
    {
     "data": {
      "image/png": "[encoded data removed]",
      "text/latex": [
       "$\\displaystyle \\frac{1}{x} - \\gamma + x \\left(\\frac{\\gamma^{2}}{2} + \\frac{\\pi^{2}}{12}\\right) + x^{2} \\left(- \\frac{\\gamma \\pi^{2}}{12} + \\frac{\\operatorname{polygamma}{\\left(2,1 \\right)}}{6} - \\frac{\\gamma^{3}}{6}\\right) + O\\left(x^{3}\\right)$"
      ],
      "text/plain": [
       "          ⎛ 2    2⎞      ⎛     2                      3⎞        \n",
       "1         ⎜γ    π ⎟    2 ⎜  γ⋅π    polygamma(2, 1)   γ ⎟    ⎛ 3⎞\n",
       "─ - γ + x⋅⎜── + ──⎟ + x ⋅⎜- ──── + ─────────────── - ──⎟ + O⎝x ⎠\n",
       "x         ⎝2    12⎠      ⎝   12           6          6 ⎠        "
      ]
     },
     "execution_count": 48,
     "metadata": {},
     "output_type": "execute_result"
    }
   ],
   "source": [
    "sympy.gamma(x).series(x,0,3)"
   ]
  },
  {
   "cell_type": "markdown",
   "id": "6e8c833f",
   "metadata": {},
   "source": [
    "To see why this is useful consider"
   ]
  },
  {
   "cell_type": "code",
   "execution_count": 49,
   "id": "0ed94561",
   "metadata": {},
   "outputs": [
    {
     "data": {
      "image/png": "[encoded data removed]",
      "text/latex": [
       "$\\displaystyle \\text{NaN}$"
      ],
      "text/plain": [
       "nan"
      ]
     },
     "execution_count": 49,
     "metadata": {},
     "output_type": "execute_result"
    }
   ],
   "source": [
    "(sympy.gamma(x)*sympy.sin(x)).subs(x,0)"
   ]
  },
  {
   "cell_type": "code",
   "execution_count": 50,
   "id": "02d5c453",
   "metadata": {},
   "outputs": [
    {
     "data": {
      "image/png": "[encoded data removed]",
      "text/latex": [
       "$\\displaystyle 1 - \\gamma x + O\\left(x^{2}\\right)$"
      ],
      "text/plain": [
       "           ⎛ 2⎞\n",
       "1 - γ⋅x + O⎝x ⎠"
      ]
     },
     "execution_count": 50,
     "metadata": {},
     "output_type": "execute_result"
    }
   ],
   "source": [
    "(sympy.gamma(x)*sympy.sin(x)).series(x,0,2)"
   ]
  },
  {
   "cell_type": "markdown",
   "id": "2f7fa61d",
   "metadata": {},
   "source": [
    "The function $\\Gamma[x]\\sin(x)$ is perfectly well behaved at $x=0$ but you need to look at the series as $x\\to 0$ to see that.  There is also a limit option but in my experience series is always better than limit."
   ]
  },
  {
   "cell_type": "markdown",
   "id": "8e6e7efb",
   "metadata": {},
   "source": [
    "#### Integration"
   ]
  },
  {
   "cell_type": "markdown",
   "id": "5fee2090",
   "metadata": {},
   "source": [
    "Integration is where it is really obvious how much better a computer is than a person.  Even just a minor change to an integral can make it faily challenging"
   ]
  },
  {
   "cell_type": "code",
   "execution_count": 51,
   "id": "24a47d62",
   "metadata": {},
   "outputs": [
    {
     "data": {
      "image/png": "[encoded data removed]",
      "text/latex": [
       "$\\displaystyle - \\cos{\\left(x \\right)}$"
      ],
      "text/plain": [
       "-cos(x)"
      ]
     },
     "execution_count": 51,
     "metadata": {},
     "output_type": "execute_result"
    }
   ],
   "source": [
    "sympy.integrate(sympy.sin(x),x)"
   ]
  },
  {
   "cell_type": "code",
   "execution_count": 52,
   "id": "6755151c",
   "metadata": {},
   "outputs": [
    {
     "data": {
      "image/png": "[encoded data removed]",
      "text/latex": [
       "$\\displaystyle \\frac{3 \\sqrt{2} \\sqrt{\\pi} S\\left(\\frac{\\sqrt{2} x}{\\sqrt{\\pi}}\\right) \\Gamma\\left(\\frac{3}{4}\\right)}{8 \\Gamma\\left(\\frac{7}{4}\\right)}$"
      ],
      "text/plain": [
       "         ⎛√2⋅x⎞       \n",
       "3⋅√2⋅√π⋅S⎜────⎟⋅Γ(3/4)\n",
       "         ⎝ √π ⎠       \n",
       "──────────────────────\n",
       "       8⋅Γ(7/4)       "
      ]
     },
     "execution_count": 52,
     "metadata": {},
     "output_type": "execute_result"
    }
   ],
   "source": [
    "sympy.integrate(sympy.sin(x**2),x)"
   ]
  },
  {
   "cell_type": "code",
   "execution_count": 53,
   "id": "7dfe3e4f",
   "metadata": {},
   "outputs": [
    {
     "data": {
      "image/png": "[encoded data removed]",
      "text/latex": [
       "$\\displaystyle 2 - \\frac{5}{e}$"
      ],
      "text/plain": [
       "       -1\n",
       "2 - 5⋅ℯ  "
      ]
     },
     "execution_count": 53,
     "metadata": {},
     "output_type": "execute_result"
    }
   ],
   "source": [
    "sympy.integrate(x**2*sympy.exp(-x),(x,0,1))"
   ]
  },
  {
   "cell_type": "markdown",
   "id": "a224059f",
   "metadata": {},
   "source": [
    "The notation for $\\infty$ is a bit unusual"
   ]
  },
  {
   "cell_type": "code",
   "execution_count": 54,
   "id": "9f2737f4",
   "metadata": {
    "scrolled": false
   },
   "outputs": [
    {
     "data": {
      "image/png": "[encoded data removed]",
      "text/latex": [
       "$\\displaystyle \\frac{\\sqrt{\\pi}}{2}$"
      ],
      "text/plain": [
       "√π\n",
       "──\n",
       "2 "
      ]
     },
     "execution_count": 54,
     "metadata": {},
     "output_type": "execute_result"
    }
   ],
   "source": [
    "sympy.integrate(sympy.exp(-x**2),(x,0,sympy.oo))"
   ]
  },
  {
   "cell_type": "markdown",
   "id": "818611da",
   "metadata": {},
   "source": [
    "We can also perform a integration that produces a function of some other variable:"
   ]
  },
  {
   "cell_type": "code",
   "execution_count": 55,
   "id": "62a85cb9",
   "metadata": {},
   "outputs": [],
   "source": [
    "a=sympy.Symbol('a')"
   ]
  },
  {
   "cell_type": "code",
   "execution_count": 56,
   "id": "63862dce",
   "metadata": {},
   "outputs": [
    {
     "data": {
      "image/png": "[encoded data removed]",
      "text/latex": [
       "$\\displaystyle \\begin{cases} \\frac{\\sqrt{\\pi}}{2 \\sqrt{a}} & \\text{for}\\: \\left|{\\arg{\\left(a \\right)}}\\right| \\leq \\frac{\\pi}{2} \\\\\\int\\limits_{0}^{\\infty} e^{- a x^{2}}\\, dx & \\text{otherwise} \\end{cases}$"
      ],
      "text/plain": [
       "⎧    √π                      π\n",
       "⎪   ────      for │arg(a)│ ≤ ─\n",
       "⎪   2⋅√a                     2\n",
       "⎪                             \n",
       "⎪∞                            \n",
       "⎨⌠                            \n",
       "⎪⎮      2                     \n",
       "⎪⎮  -a⋅x                      \n",
       "⎪⎮ ℯ      dx     otherwise    \n",
       "⎪⌡                            \n",
       "⎩0                            "
      ]
     },
     "execution_count": 56,
     "metadata": {},
     "output_type": "execute_result"
    }
   ],
   "source": [
    "sympy.integrate(sympy.exp(-a*x**2),(x,0,sympy.oo))"
   ]
  },
  {
   "cell_type": "markdown",
   "id": "97620f14",
   "metadata": {},
   "source": [
    "Notice again that it didn't know what to do with our variable $a$ (it could be real, imaginary, complex, negative, postive. Fortunately, we can tell it what to assume to avoid this problem (sometimes it can't figure it out on its own):"
   ]
  },
  {
   "cell_type": "code",
   "execution_count": 77,
   "id": "50894321",
   "metadata": {},
   "outputs": [],
   "source": [
    "c=sympy.Symbol('c',positive=True)"
   ]
  },
  {
   "cell_type": "code",
   "execution_count": 78,
   "id": "d8328597",
   "metadata": {},
   "outputs": [
    {
     "data": {
      "image/png": "[encoded data removed]",
      "text/latex": [
       "$\\displaystyle \\frac{\\sqrt{\\pi}}{2 \\sqrt{c}}$"
      ],
      "text/plain": [
       " √π \n",
       "────\n",
       "2⋅√c"
      ]
     },
     "execution_count": 78,
     "metadata": {},
     "output_type": "execute_result"
    }
   ],
   "source": [
    "sympy.integrate(sympy.exp(-c*x**2),(x,0,sympy.oo))"
   ]
  },
  {
   "cell_type": "markdown",
   "id": "e6ab8002",
   "metadata": {},
   "source": [
    "## Summary"
   ]
  },
  {
   "cell_type": "markdown",
   "id": "aa89af77",
   "metadata": {},
   "source": [
    "Symbolic computation is extremely powerful and useful. The functionality is really quite endless.  However, one often does not appreciate all that it can do until you really need it.  At the very least, it will keep you from making stupid mistakes on your homework."
   ]
  }
 ],
 "metadata": {
  "kernelspec": {
   "display_name": "Python 3 (ipykernel)",
   "language": "python",
   "name": "python3"
  },
  "language_info": {
   "codemirror_mode": {
    "name": "ipython",
    "version": 3
   },
   "file_extension": ".py",
   "mimetype": "text/x-python",
   "name": "python",
   "nbconvert_exporter": "python",
   "pygments_lexer": "ipython3",
   "version": "3.9.7"
  }
 },
 "nbformat": 4,
 "nbformat_minor": 5
}
