{
 "cells": [
  {
   "cell_type": "markdown",
   "id": "6cee1c34",
   "metadata": {},
   "source": [
    "# Topic 6d: Classes"
   ]
  },
  {
   "cell_type": "code",
   "execution_count": 1,
   "id": "79a7a98a",
   "metadata": {},
   "outputs": [],
   "source": [
    "import numpy as np\n",
    "import matplotlib.pyplot as plt"
   ]
  },
  {
   "cell_type": "markdown",
   "id": "a1b04383",
   "metadata": {},
   "source": [
    "So far, we have used python mostly as a set of one-use pieces of code that we use to solve problems. Our one exception to this rule was the function, which allowed us to reuse pieces of code for multiple purposes. \n",
    "\n",
    "However, when we load libraries, like numpy, we encounter more sophisticated use to python code. Think, for example, of how the numpy array is an object that is useful on its own, but also has a unique set of functions and operations that use this object. In this sense, python is capable of creating environments of new objects and operations that work together to enable a host of manipulations.\n",
    "\n",
    "Let's remember how this works in numpy:"
   ]
  },
  {
   "cell_type": "code",
   "execution_count": 2,
   "id": "140fd9f4",
   "metadata": {},
   "outputs": [],
   "source": [
    "Arr=np.array([1,2,3])"
   ]
  },
  {
   "cell_type": "markdown",
   "id": "4a7e6ad5",
   "metadata": {},
   "source": [
    "Properties of the array are given by things like:"
   ]
  },
  {
   "cell_type": "code",
   "execution_count": 3,
   "id": "d78b37cf",
   "metadata": {},
   "outputs": [
    {
     "data": {
      "text/plain": [
       "(3,)"
      ]
     },
     "execution_count": 3,
     "metadata": {},
     "output_type": "execute_result"
    }
   ],
   "source": [
    "Arr.shape"
   ]
  },
  {
   "cell_type": "markdown",
   "id": "6a2850d7",
   "metadata": {},
   "source": [
    "Notice there are you parenthese like a function.  A function can also act on this array, like sum():"
   ]
  },
  {
   "cell_type": "code",
   "execution_count": 4,
   "id": "839b4aa9",
   "metadata": {},
   "outputs": [
    {
     "data": {
      "text/plain": [
       "6"
      ]
     },
     "execution_count": 4,
     "metadata": {},
     "output_type": "execute_result"
    }
   ],
   "source": [
    "Arr.sum()"
   ]
  },
  {
   "cell_type": "code",
   "execution_count": null,
   "id": "1e4da6ed",
   "metadata": {},
   "outputs": [],
   "source": []
  },
  {
   "cell_type": "markdown",
   "id": "6a299bdb",
   "metadata": {},
   "source": [
    "In this way, sum is a function that acts on the array like sum(Arr). Of course, there are functions defined in the way we have been using already that just act on the objects themselfs:"
   ]
  },
  {
   "cell_type": "code",
   "execution_count": 5,
   "id": "4242c9b7",
   "metadata": {},
   "outputs": [
    {
     "data": {
      "text/plain": [
       "6"
      ]
     },
     "execution_count": 5,
     "metadata": {},
     "output_type": "execute_result"
    }
   ],
   "source": [
    "np.sum(Arr)"
   ]
  },
  {
   "cell_type": "markdown",
   "id": "2c900297",
   "metadata": {},
   "source": [
    "numpy is a useful example of a \"class\" in python.  A \"class\" is a python tool that enables this kind of object-function relationship. Here we will explore how it works, at a basic level, so that we get the essense of how a class works."
   ]
  },
  {
   "cell_type": "markdown",
   "id": "cb8d18b8",
   "metadata": {},
   "source": [
    "### Basic Class Use"
   ]
  },
  {
   "cell_type": "markdown",
   "id": "d34dce79",
   "metadata": {},
   "source": [
    "The basic idea behind a class is that there is a special object and some set of operations we can use on that object. Let's start with defining a class with the following properties:\n",
    "\n",
    "**object**\n",
    "\n",
    "* a person with a name and student number\n",
    "\n",
    "\n",
    "**functions**\n",
    "\n",
    "* says \"Hi\" using the persons name\n",
    "* returns the student number (with text explaining it is the student ID number)\n",
    "* change the name\n",
    "* change the student number"
   ]
  },
  {
   "cell_type": "markdown",
   "id": "63eaf8f5",
   "metadata": {},
   "source": [
    "Let's see how to implement this"
   ]
  },
  {
   "cell_type": "code",
   "execution_count": 6,
   "id": "7413d9e3",
   "metadata": {},
   "outputs": [],
   "source": [
    "class student:\n",
    "    # There is a special function that defines the basic object called __init__\n",
    "    def __init__(self,name,student_number):\n",
    "        self.name=name\n",
    "        self.ID=student_number\n",
    "        self.description = '' # we are leaving this empty to be defined later\n",
    "        \n",
    "    def hi_name(self):\n",
    "        return 'Hi '+self.name\n",
    "    \n",
    "    def my_ID(self):\n",
    "        return 'My student ID number is '+str(self.ID)\n",
    "        \n",
    "    def change_name(self,new_name):\n",
    "        self.name=new_name\n",
    "    \n",
    "    def change_number(self,new_number):\n",
    "        self.ID=new_number"
   ]
  },
  {
   "cell_type": "markdown",
   "id": "c042d235",
   "metadata": {},
   "source": [
    "Now let's see how this works. In the back of your mind should the idea of how we create a numpy array. I define an object in this class by calling student with the requested information but ignoring the entry \"self\""
   ]
  },
  {
   "cell_type": "code",
   "execution_count": 7,
   "id": "e386782d",
   "metadata": {},
   "outputs": [],
   "source": [
    "me=student('Prof Green',111)"
   ]
  },
  {
   "cell_type": "markdown",
   "id": "d536c94d",
   "metadata": {},
   "source": [
    "We can ask for the basic properties of this object as follows:"
   ]
  },
  {
   "cell_type": "code",
   "execution_count": 8,
   "id": "b9d42ca4",
   "metadata": {},
   "outputs": [
    {
     "data": {
      "text/plain": [
       "'Prof Green'"
      ]
     },
     "execution_count": 8,
     "metadata": {},
     "output_type": "execute_result"
    }
   ],
   "source": [
    "me.name"
   ]
  },
  {
   "cell_type": "code",
   "execution_count": 9,
   "id": "d2eaf3dd",
   "metadata": {},
   "outputs": [
    {
     "data": {
      "text/plain": [
       "111"
      ]
     },
     "execution_count": 9,
     "metadata": {},
     "output_type": "execute_result"
    }
   ],
   "source": [
    "me.ID"
   ]
  },
  {
   "cell_type": "markdown",
   "id": "47f339af",
   "metadata": {},
   "source": [
    "Now, we call the functions that act on the object the same way we use .sum() or other functions that act on arrays. Our first two functions didn't use any input (again, we ignore \"self\"), so it looks the same:"
   ]
  },
  {
   "cell_type": "code",
   "execution_count": 10,
   "id": "afefb674",
   "metadata": {},
   "outputs": [
    {
     "data": {
      "text/plain": [
       "'Hi Prof Green'"
      ]
     },
     "execution_count": 10,
     "metadata": {},
     "output_type": "execute_result"
    }
   ],
   "source": [
    "me.hi_name()"
   ]
  },
  {
   "cell_type": "code",
   "execution_count": 11,
   "id": "1f22d6a3",
   "metadata": {},
   "outputs": [
    {
     "data": {
      "text/plain": [
       "'My student ID number is 111'"
      ]
     },
     "execution_count": 11,
     "metadata": {},
     "output_type": "execute_result"
    }
   ],
   "source": [
    "me.my_ID()"
   ]
  },
  {
   "cell_type": "markdown",
   "id": "ce1accaf",
   "metadata": {},
   "source": [
    "Our next two functions required input. "
   ]
  },
  {
   "cell_type": "code",
   "execution_count": 12,
   "id": "cb596a18",
   "metadata": {},
   "outputs": [
    {
     "name": "stdout",
     "output_type": "stream",
     "text": [
      "222\n"
     ]
    }
   ],
   "source": [
    "me.change_number(222)\n",
    "print(me.ID)"
   ]
  },
  {
   "cell_type": "markdown",
   "id": "9599e257",
   "metadata": {},
   "source": [
    "Okay, so we see we have accomplished our minimal goal: we have defined an object with attributes and functions that act on those attributes"
   ]
  },
  {
   "cell_type": "markdown",
   "id": "9202fec9",
   "metadata": {},
   "source": [
    "### Defining Functions that Use Objects"
   ]
  },
  {
   "cell_type": "markdown",
   "id": "a7cf6fdf",
   "metadata": {},
   "source": [
    "When we think of how numpy works, we can tell that one can use of the class method in much more interesting ways. Concretely, think about the following operation in numpy:"
   ]
  },
  {
   "cell_type": "code",
   "execution_count": 13,
   "id": "8ab87f09",
   "metadata": {},
   "outputs": [
    {
     "name": "stdout",
     "output_type": "stream",
     "text": [
      "[2. 6. 2.] [ 0. -2.  4.] [ 1.  8. -3.] [ 1.   0.5 -3. ] [ 1.         16.          0.33333333]\n"
     ]
    }
   ],
   "source": [
    "a=np.array([1.,2.,3.])\n",
    "b=np.array([1,4,-1])\n",
    "print(a+b,a-b,a*b,a/b,a**b)"
   ]
  },
  {
   "cell_type": "markdown",
   "id": "6266cb4f",
   "metadata": {},
   "source": [
    "There are two interesting aspects of what we see\n",
    "\n",
    "* These operations take two objects in the class (a,b) and return a new object in the class\n",
    "\n",
    "* The functions have borrowed the existing math operations and defined them for this class\n",
    "\n",
    "Our goal is to see how to accomplish these steps in our own class, although we will get there in steps."
   ]
  },
  {
   "cell_type": "markdown",
   "id": "adde4ddb",
   "metadata": {},
   "source": [
    "In order to see how this works, we will define a class of rectangles. We want to define an rectable by\n",
    "\n",
    "* hight (store as h)\n",
    "* width (store as w)\n",
    "\n",
    "We will will also define three functions:\n",
    "\n",
    "* return the area of the rectangle\n",
    "* return the perimeter of the rectangle\n",
    "* rescale the size of the rectangle"
   ]
  },
  {
   "cell_type": "code",
   "execution_count": 14,
   "id": "c65dbed6",
   "metadata": {},
   "outputs": [],
   "source": [
    "class rect:\n",
    "    def __init__(self,hight,width):\n",
    "        self.h=hight\n",
    "        self.w=width\n",
    "        \n",
    "    def area(self):\n",
    "        return self.h*self.w\n",
    "    \n",
    "    def perimeter(self):\n",
    "        return 2*self.h+2*self.w\n",
    "    \n",
    "    def rescale(self,factor):\n",
    "        self.h*=factor\n",
    "        self.w*=factor"
   ]
  },
  {
   "cell_type": "markdown",
   "id": "db7c5482",
   "metadata": {},
   "source": [
    "Let's see that this does the job we set out to do:"
   ]
  },
  {
   "cell_type": "code",
   "execution_count": 15,
   "id": "8447b1a2",
   "metadata": {},
   "outputs": [
    {
     "name": "stdout",
     "output_type": "stream",
     "text": [
      "10 5\n"
     ]
    }
   ],
   "source": [
    "A=rect(10,5)\n",
    "print(A.h,A.w)"
   ]
  },
  {
   "cell_type": "code",
   "execution_count": 16,
   "id": "edc3c194",
   "metadata": {},
   "outputs": [
    {
     "name": "stdout",
     "output_type": "stream",
     "text": [
      "50 30\n"
     ]
    }
   ],
   "source": [
    "print(A.area(),A.perimeter())"
   ]
  },
  {
   "cell_type": "code",
   "execution_count": 17,
   "id": "1314b6b2",
   "metadata": {},
   "outputs": [
    {
     "name": "stdout",
     "output_type": "stream",
     "text": [
      "20 10\n"
     ]
    }
   ],
   "source": [
    "A.rescale(2)\n",
    "print(A.h,A.w)"
   ]
  },
  {
   "cell_type": "markdown",
   "id": "53ca1e68",
   "metadata": {},
   "source": [
    "This is looking pretty good, we have defined some basic mathematical information we might want to calculate about this function."
   ]
  },
  {
   "cell_type": "markdown",
   "id": "06ff69a1",
   "metadata": {},
   "source": [
    "Now, let use define the opeation of **addition**: if I have a rectangle A and I add rectangle B, I want to return a new rectangle (don't distroy the rectanges A or B) that has hight A.h+B.h and a width A.w+B.w. \n",
    "\n",
    "To start, we will simply define a function call \"add\". We can assume the arguments in \"add\" are rectangles and then we use the class itself to return a new object in the class:"
   ]
  },
  {
   "cell_type": "code",
   "execution_count": 18,
   "id": "907e0620",
   "metadata": {},
   "outputs": [],
   "source": [
    "def add_rect(r1,r2):\n",
    "    return rect(r1.h+r2.h,r1.w+r2.w)"
   ]
  },
  {
   "cell_type": "code",
   "execution_count": 19,
   "id": "79bb4312",
   "metadata": {},
   "outputs": [
    {
     "name": "stdout",
     "output_type": "stream",
     "text": [
      "21 19\n"
     ]
    }
   ],
   "source": [
    "B=rect(1,9)\n",
    "C=add_rect(A,B)\n",
    "print(C.h,C.w)"
   ]
  },
  {
   "cell_type": "markdown",
   "id": "67eaaf75",
   "metadata": {},
   "source": [
    "The next step is to move this function inside the class.  We can still call it in exactly the same way, but now we remember that it is going to act on the first object via r1.add(r2):"
   ]
  },
  {
   "cell_type": "code",
   "execution_count": 20,
   "id": "d4a245f3",
   "metadata": {},
   "outputs": [],
   "source": [
    "class rect_add:\n",
    "    def __init__(self,hight,width):\n",
    "        self.h=hight\n",
    "        self.w=width\n",
    "        \n",
    "    def area(self):\n",
    "        return self.h*self.w\n",
    "    \n",
    "    def perimeter(self):\n",
    "        return 2*self.h+2*self.w\n",
    "    \n",
    "    def rescale(self,factor):\n",
    "        self.h*=factor\n",
    "        self.w*=factor\n",
    "    \n",
    "    def add(self,other):\n",
    "        return rect_add(self.h+other.h,self.w+other.w)"
   ]
  },
  {
   "cell_type": "markdown",
   "id": "896b70e1",
   "metadata": {},
   "source": [
    "Let's see how this works:"
   ]
  },
  {
   "cell_type": "code",
   "execution_count": 21,
   "id": "12653f83",
   "metadata": {},
   "outputs": [],
   "source": [
    "D=rect_add(10,9)\n",
    "E=rect_add(1,2)\n",
    "F=D.add(E)"
   ]
  },
  {
   "cell_type": "code",
   "execution_count": 22,
   "id": "8fbda13c",
   "metadata": {},
   "outputs": [
    {
     "name": "stdout",
     "output_type": "stream",
     "text": [
      "11 11\n"
     ]
    }
   ],
   "source": [
    "print(F.h,F.w)"
   ]
  },
  {
   "cell_type": "markdown",
   "id": "3fd36cf2",
   "metadata": {},
   "source": [
    "So our last step is that we want to change the way we call the addition functino from D.add(E) to D+E. So here we need to know there is a special list of operations that we can reuse inside of a class. We can start with addition:"
   ]
  },
  {
   "cell_type": "code",
   "execution_count": 23,
   "id": "9957acf5",
   "metadata": {},
   "outputs": [],
   "source": [
    "class rect_add2:\n",
    "    def __init__(self,hight,width):\n",
    "        self.h=hight\n",
    "        self.w=width\n",
    "        \n",
    "    def area(self):\n",
    "        return self.h*self.w\n",
    "    \n",
    "    def perimeter(self):\n",
    "        return 2*self.h+2*self.w\n",
    "    \n",
    "    def rescale(self,factor):\n",
    "        self.h*=factor\n",
    "        self.w*=factor\n",
    "    \n",
    "    def __add__(self,other):\n",
    "        return rect_add(self.h+other.h,self.w+other.w)"
   ]
  },
  {
   "cell_type": "markdown",
   "id": "32f77c0f",
   "metadata": {},
   "source": [
    "This special syntax converts our add function to something we call with the + symbol:"
   ]
  },
  {
   "cell_type": "code",
   "execution_count": 24,
   "id": "e3de37c3",
   "metadata": {},
   "outputs": [
    {
     "name": "stdout",
     "output_type": "stream",
     "text": [
      "12 3\n"
     ]
    }
   ],
   "source": [
    "G=rect_add2(12,0)\n",
    "H=rect_add2(0,3)\n",
    "I=G+H\n",
    "print(I.h,I.w)"
   ]
  },
  {
   "cell_type": "markdown",
   "id": "93f92dca",
   "metadata": {},
   "source": [
    "So we can see how we can make a very useful set of shortcuts to perform various tasks in a simplified way.  "
   ]
  },
  {
   "cell_type": "markdown",
   "id": "0f5868a8",
   "metadata": {},
   "source": [
    "As a final example, we can define numbers modulo an integer (a mod n). The most obvious example of modulo addition is a clock, which for a 12 hour clock we would say is a mod 12 number.  E.g. 11+6= 5 mod 12 means the same thing as 11am + 6 hours = 5 pm. Fortunately for us, modulo 12 just means : the remainder after dividing by 12 which has an easy python implementation with the % symbol:"
   ]
  },
  {
   "cell_type": "code",
   "execution_count": 25,
   "id": "11fe490d",
   "metadata": {},
   "outputs": [
    {
     "data": {
      "text/plain": [
       "5"
      ]
     },
     "execution_count": 25,
     "metadata": {},
     "output_type": "execute_result"
    }
   ],
   "source": [
    "(11+6)%12"
   ]
  },
  {
   "cell_type": "code",
   "execution_count": 33,
   "id": "bb91c437",
   "metadata": {},
   "outputs": [],
   "source": [
    "class modn:\n",
    "    def __init__(self,num,n):\n",
    "        self.num=num%n\n",
    "        self.n=n\n",
    "    \n",
    "    def __add__(self,other):\n",
    "        if self.n==other.n:\n",
    "            return modn(self.num+other.num,self.n)\n",
    "        else:\n",
    "            return 'not compatible numbers'\n",
    "    \n",
    "    def __mul__(self,other):\n",
    "        if self.n==other.n:\n",
    "            return modn(self.num*other.num,self.n)\n",
    "        else:\n",
    "            return 'not compatible numbers'\n",
    "    def __sub__(self,other):\n",
    "        if self.n==other.n:\n",
    "            return modn(self.num-other.num,self.n)\n",
    "        else:\n",
    "            return 'not compatible numbers'\n",
    "    def __truediv__(self,other):\n",
    "        if self.n==other.n:\n",
    "            return modn(self.num/other.num,self.n)\n",
    "        else:\n",
    "            return 'not compatible numbers'\n",
    "    def __pow__(self,other):\n",
    "        if self.n==other.n:\n",
    "            return modn(self.num**other.num,self.n)\n",
    "        else:\n",
    "            return 'not compatible numbers'\n",
    "    def __str__(self):\n",
    "        return str(self.num)\n",
    "    def __repr__(self):\n",
    "        return str(self.num)"
   ]
  },
  {
   "cell_type": "markdown",
   "id": "2af43abf",
   "metadata": {},
   "source": [
    "We have now constructed an entirely new kind of number, with all the basic operations applied to it. Notice that the last definition, __str__, tells the computer what to show when I write print().  "
   ]
  },
  {
   "cell_type": "code",
   "execution_count": 34,
   "id": "b4b0c53d",
   "metadata": {},
   "outputs": [
    {
     "name": "stdout",
     "output_type": "stream",
     "text": [
      "5\n",
      "6\n",
      "1.8333333333333333\n",
      "5\n",
      "1\n"
     ]
    }
   ],
   "source": [
    "a=modn(11,12)\n",
    "b=modn(6,12)\n",
    "print((a+b))\n",
    "print((a*b))\n",
    "print((a/b))\n",
    "print((a-b))\n",
    "print((a**b))"
   ]
  },
  {
   "cell_type": "markdown",
   "id": "d48d52b2",
   "metadata": {},
   "source": [
    "The final line \"__repr__\" is what tells the computer what to print on the screen to represent the answer of a claculation"
   ]
  },
  {
   "cell_type": "code",
   "execution_count": 35,
   "id": "07e68c67",
   "metadata": {},
   "outputs": [
    {
     "data": {
      "text/plain": [
       "5"
      ]
     },
     "execution_count": 35,
     "metadata": {},
     "output_type": "execute_result"
    }
   ],
   "source": [
    "a+b"
   ]
  },
  {
   "cell_type": "markdown",
   "id": "58728d1c",
   "metadata": {},
   "source": [
    "### Summary"
   ]
  },
  {
   "cell_type": "markdown",
   "id": "ebfa2df0",
   "metadata": {},
   "source": [
    "The class method is a elegant tool to add to your coding skill-set. It expands the idea of functions into something far more powerful. Having seen how it works, we can now understand that I lot of the special objects we have used in libraries like matplotlib or numpy as just build on the class framework. If you are in the habit of repeating the same kinds of tasks on the same kinds of objects, it is useful to organize your work into the class framework to simplify what you are doing into a bunch of simple commands. That said, this isn't the way you should write your first piece of code, but it is a nice way to take code that is working an move it out of sight."
   ]
  }
 ],
 "metadata": {
  "kernelspec": {
   "display_name": "Python 3 (ipykernel)",
   "language": "python",
   "name": "python3"
  },
  "language_info": {
   "codemirror_mode": {
    "name": "ipython",
    "version": 3
   },
   "file_extension": ".py",
   "mimetype": "text/x-python",
   "name": "python",
   "nbconvert_exporter": "python",
   "pygments_lexer": "ipython3",
   "version": "3.9.7"
  }
 },
 "nbformat": 4,
 "nbformat_minor": 5
}
